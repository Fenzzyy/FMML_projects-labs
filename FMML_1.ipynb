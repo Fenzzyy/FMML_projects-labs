{
  "nbformat": 4,
  "nbformat_minor": 0,
  "metadata": {
    "colab": {
      "provenance": [],
      "authorship_tag": "ABX9TyPRWWKPAsYkZMgEYZaDOuoK",
      "include_colab_link": true
    },
    "kernelspec": {
      "name": "python3",
      "display_name": "Python 3"
    },
    "language_info": {
      "name": "python"
    }
  },
  "cells": [
    {
      "cell_type": "markdown",
      "metadata": {
        "id": "view-in-github",
        "colab_type": "text"
      },
      "source": [
        "<a href=\"https://colab.research.google.com/github/Fenzzyy/FMML_projects-labs/blob/main/FMML_1.ipynb\" target=\"_parent\"><img src=\"https://colab.research.google.com/assets/colab-badge.svg\" alt=\"Open In Colab\"/></a>"
      ]
    },
    {
      "cell_type": "code",
      "source": [
        "import numpy as np\n",
        "import matplotlib.pyplot as plt"
      ],
      "metadata": {
        "id": "kmzEqXPdRwVl"
      },
      "execution_count": null,
      "outputs": []
    },
    {
      "cell_type": "code",
      "execution_count": 13,
      "metadata": {
        "id": "yhcCmRAwlNg_",
        "colab": {
          "base_uri": "https://localhost:8080/"
        },
        "outputId": "637d2e03-04c1-4d40-98f0-f06ca572c744"
      },
      "outputs": [
        {
          "output_type": "stream",
          "name": "stdout",
          "text": [
            "[[10, 10, 10], [10, 10, 10], [10, 10, 10]]\n"
          ]
        }
      ],
      "source": [
        "#mat add\n",
        "a = [[1,1,1],[2,2,2],[3,3,3]]\n",
        "b = [[9,9,9],[8,8,8],[7,7,7]]\n",
        "sum=[]\n",
        "for i in range(len(a)):\n",
        "  row = []\n",
        "  for j in range(len(a[0])):\n",
        "    row.append(a[i][j] + b[i][j])\n",
        "  sum.append(row)\n",
        "print(sum)"
      ]
    },
    {
      "cell_type": "code",
      "source": [
        "#mat mul\n",
        "mul=[]\n",
        "for i in range(len(a)):\n",
        "  row = []\n",
        "  for j in range(len(a[0])):\n",
        "    sum = 0\n",
        "    for k in range(len(a[0])):\n",
        "      sum += a[i][k] * b[k][j]\n",
        "    row.append(sum)\n",
        "  mul.append(row)\n",
        "print(mul)"
      ],
      "metadata": {
        "id": "3SUm8EjInk8-",
        "outputId": "a557e03f-46a3-424b-fee5-4ed3b0003142",
        "colab": {
          "base_uri": "https://localhost:8080/"
        }
      },
      "execution_count": 22,
      "outputs": [
        {
          "output_type": "stream",
          "name": "stdout",
          "text": [
            "[[24, 24, 24]]\n",
            "[[24, 24, 24], [48, 48, 48]]\n",
            "[[24, 24, 24], [48, 48, 48], [72, 72, 72]]\n"
          ]
        }
      ]
    },
    {
      "cell_type": "code",
      "source": [
        "#mat trnaspose\n",
        "tra = []\n",
        "for i in range(len(a)):\n",
        "  row = []\n",
        "  for j in range(len(a[0])):\n",
        "    row.append(a[j][i])\n",
        "  tra.append(row)\n",
        "print(tra)"
      ],
      "metadata": {
        "id": "bVcV2Wrynxf8",
        "outputId": "adac72c0-9039-4b0f-c602-4508d1d48aa3",
        "colab": {
          "base_uri": "https://localhost:8080/"
        }
      },
      "execution_count": 29,
      "outputs": [
        {
          "output_type": "stream",
          "name": "stdout",
          "text": [
            "[[1, 2, 3], [1, 2, 3], [1, 2, 3]]\n"
          ]
        }
      ]
    },
    {
      "cell_type": "code",
      "source": [],
      "metadata": {
        "id": "z9pZ-_bCWQbN"
      },
      "execution_count": null,
      "outputs": []
    }
  ]
}